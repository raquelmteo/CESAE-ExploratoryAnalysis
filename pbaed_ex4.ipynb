{
 "cells": [
  {
   "cell_type": "code",
   "execution_count": 32,
   "metadata": {},
   "outputs": [],
   "source": [
    "import pandas as pd\n",
    "import numpy as np\n",
    "from numpy import linalg as LA\n",
    "import matplotlib.pyplot as plt\n"
   ]
  },
  {
   "cell_type": "code",
   "execution_count": 9,
   "metadata": {},
   "outputs": [
    {
     "name": "stdout",
     "output_type": "stream",
     "text": [
      "         A      B      C      D\n",
      "0    146.2  147.2  146.6  146.8\n",
      "1    146.8  146.9  146.8  146.8\n",
      "2    147.4  147.5  147.1  147.3\n",
      "3    146.6  147.1  147.4  147.2\n",
      "4    147.3  146.9  147.6  147.4\n",
      "..     ...    ...    ...    ...\n",
      "139  146.6  145.9  146.0  146.5\n",
      "140  146.0  146.4  145.9  146.4\n",
      "141  146.6  146.6  146.4  146.2\n",
      "142  146.2  146.8  146.7  146.7\n",
      "143  146.8  147.3  147.0  146.7\n",
      "\n",
      "[144 rows x 4 columns]\n"
     ]
    }
   ],
   "source": [
    "dados = pd.read_csv('C:/Users/raque/OneDrive/Documentos/Python/Análise Exploratória de Dados/Trabalho Final/pbaed_ex4.csv')\n",
    "print(dados)"
   ]
  },
  {
   "cell_type": "code",
   "execution_count": 27,
   "metadata": {},
   "outputs": [
    {
     "name": "stdout",
     "output_type": "stream",
     "text": [
      "            A         B         C         D\n",
      "0   -0.390827 -1.358675 -0.508693 -0.769105\n",
      "1   -1.045236 -1.043281 -0.735128 -0.769105\n",
      "2   -1.699644 -1.674069 -1.074781 -1.316295\n",
      "3   -0.827100 -1.253544 -1.414434 -1.206857\n",
      "4   -1.590576 -1.043281 -1.640869 -1.425733\n",
      "..        ...       ...       ...       ...\n",
      "139 -0.827100  0.008031  0.170613 -0.440792\n",
      "140 -0.172691 -0.517625  0.283830 -0.331354\n",
      "141 -0.827100 -0.727888 -0.282258 -0.112478\n",
      "142 -0.390827 -0.938150 -0.621911 -0.659668\n",
      "143 -1.045236 -1.463806 -0.961563 -0.659668\n",
      "\n",
      "[144 rows x 4 columns]\n"
     ]
    }
   ],
   "source": [
    "# centrar dados\n",
    "centdados = (dados.mean() - dados)/dados.std()\n",
    "print(centdados)\n"
   ]
  },
  {
   "cell_type": "code",
   "execution_count": 22,
   "metadata": {},
   "outputs": [
    {
     "name": "stdout",
     "output_type": "stream",
     "text": [
      "      A     B     C     D\n",
      "A  1.00  0.86  0.55  0.60\n",
      "B  0.86  1.00  0.59  0.64\n",
      "C  0.55  0.59  1.00  0.88\n",
      "D  0.60  0.64  0.88  1.00\n"
     ]
    }
   ],
   "source": [
    "# matriz de covariâncias dos dados padronizados\n",
    "centmatriz = centdados.cov()\n",
    "print(round(centmatriz,2))"
   ]
  },
  {
   "cell_type": "code",
   "execution_count": 28,
   "metadata": {},
   "outputs": [
    {
     "name": "stdout",
     "output_type": "stream",
     "text": [
      "Valores próprios da matriz de covariâncias:\n",
      "[3.06107159 0.68195288 0.14380797 0.11316756]\n",
      "\n",
      "Vetores próprios associados a cada valor próprio:\n",
      "[[-0.49116408 -0.53238189 -0.68703083  0.05758477]\n",
      " [-0.50295476 -0.46988715  0.71206931 -0.13856361]\n",
      " [-0.49414193  0.54115313 -0.12217877 -0.66936492]\n",
      " [-0.51148617  0.45047628  0.0775776   0.72762265]]\n",
      "\n"
     ]
    }
   ],
   "source": [
    "# valores próprios da matriz de covariâncias acima\n",
    "[eigval, eigvec] = LA.eig(centmatriz)\n",
    "idx = eigval.argsort()[::-1] # ordena maior para menor\n",
    "eigval = eigval[idx]\n",
    "eigvec = eigvec[:,idx]\n",
    "\n",
    "print(f\"Valores próprios da matriz de covariâncias:\\n{eigval}\\n\")\n",
    "print(f\"Vetores próprios associados a cada valor próprio:\\n{eigvec}\\n\")"
   ]
  },
  {
   "cell_type": "code",
   "execution_count": 36,
   "metadata": {},
   "outputs": [
    {
     "name": "stdout",
     "output_type": "stream",
     "text": [
      "Percentagens: \n",
      "76.53%\n",
      "17.05%\n",
      "3.60%\n",
      "2.83%\n"
     ]
    },
    {
     "data": {
      "image/png": "[encoded data removed]",
      "text/plain": [
       "<Figure size 640x480 with 1 Axes>"
      ]
     },
     "metadata": {},
     "output_type": "display_data"
    }
   ],
   "source": [
    "# representação gráfica a evolução cumulativa da percentagem da variância\n",
    "somavaloresproprios = 3.06107159 + 0.68195288 + 0.14380797 + 0.11316756\n",
    "perc1 = 3.06107159/somavaloresproprios\n",
    "perc2 = 0.68195288/somavaloresproprios\n",
    "perc3 = 0.14380797/somavaloresproprios\n",
    "perc4 = 0.11316756/somavaloresproprios\n",
    "\n",
    "print(f\"Percentagens: \\n{perc1:.2%}\\n{perc2:.2%}\\n{perc3:.2%}\\n{perc4:.2%}\")\n",
    "\n",
    "propacum = np.cumsum(eigval) / np.sum(eigval)\n",
    "\n",
    "plt.scatter(range(1, len(propacum) + 1), propacum, marker='o')\n",
    "plt.xlabel('Número de Componentes Principais')\n",
    "plt.ylabel('Percentagem da Variância')\n",
    "plt.title('Evolução Cumulativa da Variância')\n",
    "plt.show()"
   ]
  },
  {
   "cell_type": "code",
   "execution_count": 37,
   "metadata": {},
   "outputs": [
    {
     "name": "stdout",
     "output_type": "stream",
     "text": [
      "Número de componentes para 90% de variância explicada: 2\n"
     ]
    }
   ],
   "source": [
    "# quantos componentes principais precisa para garantir pelo menos 90% de variância\n",
    "\"\"\"Podem ser 2, 3, 10, 100, 500 valores próprios dependendo do tamanho dos nossos dados.\"\"\"\n",
    "\n",
    "propacum = np.cumsum(eigval) / np.sum(eigval)\n",
    "numcomp = np.argmax(propacum >= 0.9) + 1\n",
    "\n",
    "print(f\"Número de componentes para 90% de variância explicada: {numcomp}\")\n"
   ]
  },
  {
   "cell_type": "code",
   "execution_count": 42,
   "metadata": {},
   "outputs": [
    {
     "name": "stdout",
     "output_type": "stream",
     "text": [
      "[[-0.49116408 -0.53238189]\n",
      " [-0.50295476 -0.46988715]\n",
      " [-0.49414193  0.54115313]\n",
      " [-0.51148617  0.45047628]]\n"
     ]
    }
   ],
   "source": [
    "# quais vetores indicados escolheria\n",
    "maioresVet = eigvec[:, :2]\n",
    "print(maioresVet)"
   ]
  }
 ],
 "metadata": {
  "kernelspec": {
   "display_name": "Python 3",
   "language": "python",
   "name": "python3"
  },
  "language_info": {
   "codemirror_mode": {
    "name": "ipython",
    "version": 3
   },
   "file_extension": ".py",
   "mimetype": "text/x-python",
   "name": "python",
   "nbconvert_exporter": "python",
   "pygments_lexer": "ipython3",
   "version": "3.12.0"
  }
 },
 "nbformat": 4,
 "nbformat_minor": 2
}
